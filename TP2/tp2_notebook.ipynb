{
 "cells": [
  {
   "cell_type": "code",
   "execution_count": 5,
   "metadata": {},
   "outputs": [],
   "source": [
    "from owlready2 import owlready2, get_ontology, Thing, Not, And, default_world, sync_reasoner_pellet, AllDifferent, AllDisjoint"
   ]
  },
  {
   "cell_type": "code",
   "execution_count": 6,
   "metadata": {},
   "outputs": [],
   "source": [
    "owlready2.JAVA_EXE='/usr/bin/java'"
   ]
  },
  {
   "cell_type": "code",
   "execution_count": 7,
   "metadata": {},
   "outputs": [],
   "source": [
    "onto = get_ontology('http://students.org/') # new ontology, providing its IRI\n",
    "with onto:\n",
    "    # Define a Person\n",
    "    class Person(Thing):  # new subclass of Thing\n",
    "        pass\n",
    "    \n",
    "    # Define a Course\n",
    "    class Course(Thing):\n",
    "        # subclass of not a Person\n",
    "        is_a = [Not(onto.Person)]\n",
    "        \n",
    "    # AllDisjoint([Person, Course])\n",
    "    \n",
    "    # A Person can teach a Course\n",
    "    class teaches(Person >> Course): pass\n",
    "    \n",
    "    # Define a Teacher\n",
    "    class Teacher(Thing):\n",
    "        # as a Person who teaches some Course\n",
    "        equivalent_to = [And([Person, teaches.some(Course)])]\n",
    "        \n",
    "    # A Person can attend a Course    \n",
    "    class attends(Person >> Course): pass\n",
    "    \n",
    "    # Define a Student\n",
    "    class Student(Thing):\n",
    "        # as a Person who attends some Course\n",
    "        equivalent_to = [And([Person, attends.some(Course)])]"
   ]
  },
  {
   "cell_type": "code",
   "execution_count": 4,
   "metadata": {},
   "outputs": [
    {
     "name": "stdout",
     "output_type": "stream",
     "text": [
      "{students.org.Person, owl.Thing}\n"
     ]
    }
   ],
   "source": [
    "with onto:\n",
    "    print(Person.ancestors()) # Print every superclasses\n",
    "    "
   ]
  },
  {
   "cell_type": "code",
   "execution_count": 5,
   "metadata": {},
   "outputs": [],
   "source": [
    "# Define some individuals\n",
    "with onto:\n",
    "    mary = Person(name='mary') # mary is instance of class Personne\n",
    "    cs600 = Course(name='cs600')\n",
    "    alice = Person(name='alice')\n",
    "    alice.teaches = [cs600]\n",
    "    mary.attends = [cs600]"
   ]
  },
  {
   "cell_type": "code",
   "execution_count": 6,
   "metadata": {},
   "outputs": [
    {
     "name": "stdout",
     "output_type": "stream",
     "text": [
      "students.org.alice [students.org.Person]\n",
      "students.org.mary [students.org.Person]\n"
     ]
    }
   ],
   "source": [
    " # Check what are alice and mary\n",
    "with onto:\n",
    "    print(alice, alice.is_a)\n",
    "    print(mary, mary.is_a)"
   ]
  },
  {
   "cell_type": "code",
   "execution_count": 8,
   "metadata": {},
   "outputs": [
    {
     "name": "stdout",
     "output_type": "stream",
     "text": [
      "Each instances of class Person :\n"
     ]
    }
   ],
   "source": [
    "with onto:\n",
    "   print(\"Each instances of class Person :\")\n",
    "   for p in Person.instances(): print(p)"
   ]
  },
  {
   "cell_type": "code",
   "execution_count": 8,
   "metadata": {},
   "outputs": [
    {
     "name": "stdout",
     "output_type": "stream",
     "text": [
      ".attends == students.org.cs600\n"
     ]
    }
   ],
   "source": [
    "with onto:\n",
    "    for prop in mary.get_properties():   # Each properties of Mary with their values\n",
    "        for value in prop[onto.mary]:\n",
    "            print(\".%s == %s\" % (prop.name, value))\n"
   ]
  },
  {
   "cell_type": "code",
   "execution_count": 9,
   "metadata": {},
   "outputs": [],
   "source": [
    "onto.save(\"student.owl\") # This save is bug-prone - generation of <stud:Person rdf:about=\"alice\">"
   ]
  },
  {
   "cell_type": "code",
   "execution_count": 10,
   "metadata": {},
   "outputs": [],
   "source": [
    "default_world.save('world.owl') # generation of <stud:Person rdf:about=\"http://students.org/alice\">"
   ]
  },
  {
   "cell_type": "code",
   "execution_count": 11,
   "metadata": {},
   "outputs": [
    {
     "name": "stderr",
     "output_type": "stream",
     "text": [
      "* Owlready2 * Running Pellet...\n",
      "    /usr/bin/java -Xmx2000M -cp /Users/Yolaine/opt/anaconda3/lib/python3.8/site-packages/owlready2/pellet/httpclient-4.2.3.jar:/Users/Yolaine/opt/anaconda3/lib/python3.8/site-packages/owlready2/pellet/aterm-java-1.6.jar:/Users/Yolaine/opt/anaconda3/lib/python3.8/site-packages/owlready2/pellet/xercesImpl-2.10.0.jar:/Users/Yolaine/opt/anaconda3/lib/python3.8/site-packages/owlready2/pellet/slf4j-api-1.6.4.jar:/Users/Yolaine/opt/anaconda3/lib/python3.8/site-packages/owlready2/pellet/jena-tdb-0.10.0.jar:/Users/Yolaine/opt/anaconda3/lib/python3.8/site-packages/owlready2/pellet/jena-iri-0.9.5.jar:/Users/Yolaine/opt/anaconda3/lib/python3.8/site-packages/owlready2/pellet/owlapi-distribution-3.4.3-bin.jar:/Users/Yolaine/opt/anaconda3/lib/python3.8/site-packages/owlready2/pellet/log4j-1.2.16.jar:/Users/Yolaine/opt/anaconda3/lib/python3.8/site-packages/owlready2/pellet/jcl-over-slf4j-1.6.4.jar:/Users/Yolaine/opt/anaconda3/lib/python3.8/site-packages/owlready2/pellet/slf4j-log4j12-1.6.4.jar:/Users/Yolaine/opt/anaconda3/lib/python3.8/site-packages/owlready2/pellet/antlr-runtime-3.2.jar:/Users/Yolaine/opt/anaconda3/lib/python3.8/site-packages/owlready2/pellet/pellet-2.3.1.jar:/Users/Yolaine/opt/anaconda3/lib/python3.8/site-packages/owlready2/pellet/jgrapht-jdk1.5.jar:/Users/Yolaine/opt/anaconda3/lib/python3.8/site-packages/owlready2/pellet/commons-codec-1.6.jar:/Users/Yolaine/opt/anaconda3/lib/python3.8/site-packages/owlready2/pellet/antlr-3.2.jar:/Users/Yolaine/opt/anaconda3/lib/python3.8/site-packages/owlready2/pellet/xml-apis-1.4.01.jar:/Users/Yolaine/opt/anaconda3/lib/python3.8/site-packages/owlready2/pellet/httpcore-4.2.2.jar:/Users/Yolaine/opt/anaconda3/lib/python3.8/site-packages/owlready2/pellet/jena-arq-2.10.0.jar:/Users/Yolaine/opt/anaconda3/lib/python3.8/site-packages/owlready2/pellet/jena-core-2.10.0.jar pellet.Pellet realize --loader Jena --input-format N-Triples --infer-prop-values --infer-data-prop-values --ignore-imports /var/folders/p0/rkhrtqq92j52zvvp9z4cbpnw0000gn/T/tmp9ehssk2w\n",
      "* Owlready2 * Pellet took 0.9024608135223389 seconds\n",
      "* Owlready * Reparenting students.org.Student: {owl.Thing} => {students.org.Person}\n",
      "* Owlready * Reparenting students.org.mary: {students.org.Person} => {students.org.Student}\n",
      "* Owlready * Reparenting students.org.Teacher: {owl.Thing} => {students.org.Person}\n",
      "* Owlready * Reparenting students.org.alice: {students.org.Person} => {students.org.Teacher}\n",
      "* Owlready * (NB: only changes on entities loaded in Python are shown, other changes are done but not listed)\n"
     ]
    }
   ],
   "source": [
    "sync_reasoner_pellet([onto], infer_property_values=True, infer_data_property_values=True, debug=True, keep_tmp_file=True)"
   ]
  },
  {
   "cell_type": "code",
   "execution_count": 12,
   "metadata": {},
   "outputs": [
    {
     "name": "stdout",
     "output_type": "stream",
     "text": [
      "students.org.alice [students.org.Teacher]\n",
      "students.org.mary [students.org.Student]\n"
     ]
    }
   ],
   "source": [
    "with onto:\n",
    "    # Check what are alice and mary after Pellet\n",
    "    print(alice, alice.is_a)\n",
    "    print(mary, mary.is_a)\n"
   ]
  },
  {
   "cell_type": "code",
   "execution_count": 13,
   "metadata": {},
   "outputs": [
    {
     "name": "stdout",
     "output_type": "stream",
     "text": [
      "students.org.bob [students.org.Person] students.org.cs101\n"
     ]
    }
   ],
   "source": [
    "with onto:\n",
    "    # Define a new Course\n",
    "    cs101 = Course(name='cs101')\n",
    "    \n",
    "    # Define bob as a Person\n",
    "    bob = Person(name='bob')\n",
    "    # who is teaching cs101\n",
    "    bob.teaches = [cs101]\n",
    "    # and attending cs600\n",
    "    bob.attends = [cs600]\n",
    "    \n",
    "# print what is bob\n",
    "print(bob, bob.is_a, cs101)"
   ]
  },
  {
   "cell_type": "code",
   "execution_count": 14,
   "metadata": {},
   "outputs": [
    {
     "name": "stderr",
     "output_type": "stream",
     "text": [
      "* Owlready2 * Running Pellet...\n",
      "    /usr/bin/java -Xmx2000M -cp /Users/Yolaine/opt/anaconda3/lib/python3.8/site-packages/owlready2/pellet/httpclient-4.2.3.jar:/Users/Yolaine/opt/anaconda3/lib/python3.8/site-packages/owlready2/pellet/aterm-java-1.6.jar:/Users/Yolaine/opt/anaconda3/lib/python3.8/site-packages/owlready2/pellet/xercesImpl-2.10.0.jar:/Users/Yolaine/opt/anaconda3/lib/python3.8/site-packages/owlready2/pellet/slf4j-api-1.6.4.jar:/Users/Yolaine/opt/anaconda3/lib/python3.8/site-packages/owlready2/pellet/jena-tdb-0.10.0.jar:/Users/Yolaine/opt/anaconda3/lib/python3.8/site-packages/owlready2/pellet/jena-iri-0.9.5.jar:/Users/Yolaine/opt/anaconda3/lib/python3.8/site-packages/owlready2/pellet/owlapi-distribution-3.4.3-bin.jar:/Users/Yolaine/opt/anaconda3/lib/python3.8/site-packages/owlready2/pellet/log4j-1.2.16.jar:/Users/Yolaine/opt/anaconda3/lib/python3.8/site-packages/owlready2/pellet/jcl-over-slf4j-1.6.4.jar:/Users/Yolaine/opt/anaconda3/lib/python3.8/site-packages/owlready2/pellet/slf4j-log4j12-1.6.4.jar:/Users/Yolaine/opt/anaconda3/lib/python3.8/site-packages/owlready2/pellet/antlr-runtime-3.2.jar:/Users/Yolaine/opt/anaconda3/lib/python3.8/site-packages/owlready2/pellet/pellet-2.3.1.jar:/Users/Yolaine/opt/anaconda3/lib/python3.8/site-packages/owlready2/pellet/jgrapht-jdk1.5.jar:/Users/Yolaine/opt/anaconda3/lib/python3.8/site-packages/owlready2/pellet/commons-codec-1.6.jar:/Users/Yolaine/opt/anaconda3/lib/python3.8/site-packages/owlready2/pellet/antlr-3.2.jar:/Users/Yolaine/opt/anaconda3/lib/python3.8/site-packages/owlready2/pellet/xml-apis-1.4.01.jar:/Users/Yolaine/opt/anaconda3/lib/python3.8/site-packages/owlready2/pellet/httpcore-4.2.2.jar:/Users/Yolaine/opt/anaconda3/lib/python3.8/site-packages/owlready2/pellet/jena-arq-2.10.0.jar:/Users/Yolaine/opt/anaconda3/lib/python3.8/site-packages/owlready2/pellet/jena-core-2.10.0.jar pellet.Pellet realize --loader Jena --input-format N-Triples --infer-prop-values --infer-data-prop-values --ignore-imports /var/folders/p0/rkhrtqq92j52zvvp9z4cbpnw0000gn/T/tmp82bt_lm8\n",
      "* Owlready2 * Pellet took 0.6257719993591309 seconds\n",
      "* Owlready * Reparenting students.org.bob: {students.org.Person} => {students.org.Student, students.org.Teacher}\n",
      "* Owlready * (NB: only changes on entities loaded in Python are shown, other changes are done but not listed)\n"
     ]
    }
   ],
   "source": [
    "# Call Pellet again\n",
    "sync_reasoner_pellet([onto], infer_property_values=True, infer_data_property_values=True, debug=True, keep_tmp_file=True)"
   ]
  },
  {
   "cell_type": "code",
   "execution_count": 15,
   "metadata": {},
   "outputs": [
    {
     "data": {
      "text/plain": [
       "[students.org.Student, students.org.Teacher]"
      ]
     },
     "execution_count": 15,
     "metadata": {},
     "output_type": "execute_result"
    }
   ],
   "source": [
    "# Check what is bob\n",
    "bob.is_a"
   ]
  },
  {
   "cell_type": "code",
   "execution_count": 16,
   "metadata": {},
   "outputs": [
    {
     "name": "stdout",
     "output_type": "stream",
     "text": [
      "[]\n"
     ]
    }
   ],
   "source": [
    "# Check if any inconsistent classes\n",
    "print(list(onto.world.inconsistent_classes()))"
   ]
  },
  {
   "cell_type": "code",
   "execution_count": 17,
   "metadata": {},
   "outputs": [],
   "source": [
    "# Add some new relation\n",
    "with onto:\n",
    "    class Man(Thing):\n",
    "        is_a = [Person]\n",
    "    class Woman(Thing):\n",
    "        is_a = [Person]\n",
    "        \n",
    "    # Not transgender friendly\n",
    "    AllDisjoint([Man,Woman])        \n",
    "    \n",
    "    class has_sibling(Person >> Person): pass\n",
    "    \n",
    "    bob.is_a.append(Man)\n",
    "    alice.is_a.append(Woman)\n",
    "    mary.is_a.append(Woman)"
   ]
  },
  {
   "cell_type": "code",
   "execution_count": 18,
   "metadata": {},
   "outputs": [
    {
     "name": "stderr",
     "output_type": "stream",
     "text": [
      "* Owlready2 * Running Pellet...\n",
      "    /usr/bin/java -Xmx2000M -cp /Users/Yolaine/opt/anaconda3/lib/python3.8/site-packages/owlready2/pellet/httpclient-4.2.3.jar:/Users/Yolaine/opt/anaconda3/lib/python3.8/site-packages/owlready2/pellet/aterm-java-1.6.jar:/Users/Yolaine/opt/anaconda3/lib/python3.8/site-packages/owlready2/pellet/xercesImpl-2.10.0.jar:/Users/Yolaine/opt/anaconda3/lib/python3.8/site-packages/owlready2/pellet/slf4j-api-1.6.4.jar:/Users/Yolaine/opt/anaconda3/lib/python3.8/site-packages/owlready2/pellet/jena-tdb-0.10.0.jar:/Users/Yolaine/opt/anaconda3/lib/python3.8/site-packages/owlready2/pellet/jena-iri-0.9.5.jar:/Users/Yolaine/opt/anaconda3/lib/python3.8/site-packages/owlready2/pellet/owlapi-distribution-3.4.3-bin.jar:/Users/Yolaine/opt/anaconda3/lib/python3.8/site-packages/owlready2/pellet/log4j-1.2.16.jar:/Users/Yolaine/opt/anaconda3/lib/python3.8/site-packages/owlready2/pellet/jcl-over-slf4j-1.6.4.jar:/Users/Yolaine/opt/anaconda3/lib/python3.8/site-packages/owlready2/pellet/slf4j-log4j12-1.6.4.jar:/Users/Yolaine/opt/anaconda3/lib/python3.8/site-packages/owlready2/pellet/antlr-runtime-3.2.jar:/Users/Yolaine/opt/anaconda3/lib/python3.8/site-packages/owlready2/pellet/pellet-2.3.1.jar:/Users/Yolaine/opt/anaconda3/lib/python3.8/site-packages/owlready2/pellet/jgrapht-jdk1.5.jar:/Users/Yolaine/opt/anaconda3/lib/python3.8/site-packages/owlready2/pellet/commons-codec-1.6.jar:/Users/Yolaine/opt/anaconda3/lib/python3.8/site-packages/owlready2/pellet/antlr-3.2.jar:/Users/Yolaine/opt/anaconda3/lib/python3.8/site-packages/owlready2/pellet/xml-apis-1.4.01.jar:/Users/Yolaine/opt/anaconda3/lib/python3.8/site-packages/owlready2/pellet/httpcore-4.2.2.jar:/Users/Yolaine/opt/anaconda3/lib/python3.8/site-packages/owlready2/pellet/jena-arq-2.10.0.jar:/Users/Yolaine/opt/anaconda3/lib/python3.8/site-packages/owlready2/pellet/jena-core-2.10.0.jar pellet.Pellet realize --loader Jena --input-format N-Triples --infer-prop-values --infer-data-prop-values --ignore-imports /var/folders/p0/rkhrtqq92j52zvvp9z4cbpnw0000gn/T/tmp2h1676op\n",
      "* Owlready2 * Pellet took 0.5986409187316895 seconds\n",
      "* Owlready * Reparenting students.org.Man: {students.org.Person, owl.Thing} => {students.org.Person}\n",
      "* Owlready * Reparenting students.org.Woman: {students.org.Person, owl.Thing} => {students.org.Person}\n",
      "* Owlready * (NB: only changes on entities loaded in Python are shown, other changes are done but not listed)\n"
     ]
    }
   ],
   "source": [
    "sync_reasoner_pellet([onto], infer_property_values=True, infer_data_property_values=True, debug=True, keep_tmp_file=True)"
   ]
  },
  {
   "cell_type": "code",
   "execution_count": 19,
   "metadata": {},
   "outputs": [
    {
     "data": {
      "text/plain": [
       "[students.org.Student, students.org.Teacher, students.org.Man]"
      ]
     },
     "execution_count": 19,
     "metadata": {},
     "output_type": "execute_result"
    }
   ],
   "source": [
    "bob.is_a"
   ]
  },
  {
   "cell_type": "code",
   "execution_count": 20,
   "metadata": {},
   "outputs": [],
   "source": [
    "with onto:\n",
    "    imp = Imp()\n",
    "    imp.set_as_rule(\"Person(?x), Person(?y), Person(?z), \\\n",
    "                     DifferentFrom(?x, ?y), DifferentFrom(?y, ?z), DifferentFrom(?x, ?z), \\\n",
    "                     has_sibling(?x, ?y), has_sibling(?y, ?z) -> has_sibling(?x, ?z)\")"
   ]
  },
  {
   "cell_type": "code",
   "execution_count": 21,
   "metadata": {},
   "outputs": [
    {
     "data": {
      "text/plain": [
       "AllDisjoint([students.org.bob, students.org.alice, students.org.mary])"
      ]
     },
     "execution_count": 21,
     "metadata": {},
     "output_type": "execute_result"
    }
   ],
   "source": [
    "# Ensure that alice, bob, mary are not the same\n",
    "AllDifferent([bob, alice, mary])"
   ]
  },
  {
   "cell_type": "code",
   "execution_count": 22,
   "metadata": {},
   "outputs": [],
   "source": [
    "# Add some siblings\n",
    "with onto:\n",
    "    bob.has_sibling = [alice]\n",
    "    alice.has_sibling = [mary]"
   ]
  },
  {
   "cell_type": "code",
   "execution_count": 23,
   "metadata": {
    "scrolled": true
   },
   "outputs": [
    {
     "name": "stderr",
     "output_type": "stream",
     "text": [
      "* Owlready2 * Running Pellet...\n",
      "    /usr/bin/java -Xmx2000M -cp /Users/Yolaine/opt/anaconda3/lib/python3.8/site-packages/owlready2/pellet/httpclient-4.2.3.jar:/Users/Yolaine/opt/anaconda3/lib/python3.8/site-packages/owlready2/pellet/aterm-java-1.6.jar:/Users/Yolaine/opt/anaconda3/lib/python3.8/site-packages/owlready2/pellet/xercesImpl-2.10.0.jar:/Users/Yolaine/opt/anaconda3/lib/python3.8/site-packages/owlready2/pellet/slf4j-api-1.6.4.jar:/Users/Yolaine/opt/anaconda3/lib/python3.8/site-packages/owlready2/pellet/jena-tdb-0.10.0.jar:/Users/Yolaine/opt/anaconda3/lib/python3.8/site-packages/owlready2/pellet/jena-iri-0.9.5.jar:/Users/Yolaine/opt/anaconda3/lib/python3.8/site-packages/owlready2/pellet/owlapi-distribution-3.4.3-bin.jar:/Users/Yolaine/opt/anaconda3/lib/python3.8/site-packages/owlready2/pellet/log4j-1.2.16.jar:/Users/Yolaine/opt/anaconda3/lib/python3.8/site-packages/owlready2/pellet/jcl-over-slf4j-1.6.4.jar:/Users/Yolaine/opt/anaconda3/lib/python3.8/site-packages/owlready2/pellet/slf4j-log4j12-1.6.4.jar:/Users/Yolaine/opt/anaconda3/lib/python3.8/site-packages/owlready2/pellet/antlr-runtime-3.2.jar:/Users/Yolaine/opt/anaconda3/lib/python3.8/site-packages/owlready2/pellet/pellet-2.3.1.jar:/Users/Yolaine/opt/anaconda3/lib/python3.8/site-packages/owlready2/pellet/jgrapht-jdk1.5.jar:/Users/Yolaine/opt/anaconda3/lib/python3.8/site-packages/owlready2/pellet/commons-codec-1.6.jar:/Users/Yolaine/opt/anaconda3/lib/python3.8/site-packages/owlready2/pellet/antlr-3.2.jar:/Users/Yolaine/opt/anaconda3/lib/python3.8/site-packages/owlready2/pellet/xml-apis-1.4.01.jar:/Users/Yolaine/opt/anaconda3/lib/python3.8/site-packages/owlready2/pellet/httpcore-4.2.2.jar:/Users/Yolaine/opt/anaconda3/lib/python3.8/site-packages/owlready2/pellet/jena-arq-2.10.0.jar:/Users/Yolaine/opt/anaconda3/lib/python3.8/site-packages/owlready2/pellet/jena-core-2.10.0.jar pellet.Pellet realize --loader Jena --input-format N-Triples --infer-prop-values --infer-data-prop-values --ignore-imports /var/folders/p0/rkhrtqq92j52zvvp9z4cbpnw0000gn/T/tmp7v8cq41s\n"
     ]
    },
    {
     "name": "stdout",
     "output_type": "stream",
     "text": [
      "* Owlready * Adding relation students.org.bob has_sibling students.org.mary\n"
     ]
    },
    {
     "name": "stderr",
     "output_type": "stream",
     "text": [
      "* Owlready2 * Pellet took 0.6487119197845459 seconds\n",
      "* Owlready * (NB: only changes on entities loaded in Python are shown, other changes are done but not listed)\n"
     ]
    }
   ],
   "source": [
    "sync_reasoner_pellet([onto], infer_property_values=True, infer_data_property_values=True, debug=True, keep_tmp_file=True)"
   ]
  },
  {
   "cell_type": "code",
   "execution_count": 24,
   "metadata": {},
   "outputs": [
    {
     "data": {
      "text/plain": [
       "[students.org.alice, students.org.mary]"
      ]
     },
     "execution_count": 24,
     "metadata": {},
     "output_type": "execute_result"
    }
   ],
   "source": [
    "bob.has_sibling"
   ]
  },
  {
   "cell_type": "code",
   "execution_count": 25,
   "metadata": {},
   "outputs": [],
   "source": [
    "with onto:\n",
    "    class has_sister(has_sibling):\n",
    "        domain = [Person]\n",
    "        range = [Woman]"
   ]
  },
  {
   "cell_type": "code",
   "execution_count": 26,
   "metadata": {},
   "outputs": [],
   "source": [
    "with onto:\n",
    "    Thing.descendants(include_self = True, only_loaded = False)"
   ]
  },
  {
   "cell_type": "code",
   "execution_count": 27,
   "metadata": {},
   "outputs": [],
   "source": [
    "onto.save('students.owl')"
   ]
  },
  {
   "cell_type": "code",
   "execution_count": 28,
   "metadata": {},
   "outputs": [
    {
     "data": {
      "text/plain": [
       "{'http://students.org/': get_ontology(\"http://students.org/\"),\n",
       " 'http://anonymous/': get_ontology(\"http://anonymous/\"),\n",
       " 'http://inferrences/': get_ontology(\"http://inferrences/\")}"
      ]
     },
     "execution_count": 28,
     "metadata": {},
     "output_type": "execute_result"
    }
   ],
   "source": [
    "default_world.ontologies"
   ]
  },
  {
   "cell_type": "code",
   "execution_count": 29,
   "metadata": {},
   "outputs": [],
   "source": [
    "default_world.save('world.owl')"
   ]
  },
  {
   "cell_type": "markdown",
   "metadata": {},
   "source": [
    "Native SPARQL engine (see [SPARQL Owlready2 documentation](https://owlready2.readthedocs.io/en/latest/sparql.html#native-sparql-engine))"
   ]
  },
  {
   "cell_type": "markdown",
   "metadata": {},
   "source": [
    "RDFLib SPARQL engine"
   ]
  },
  {
   "cell_type": "code",
   "execution_count": 30,
   "metadata": {},
   "outputs": [
    {
     "name": "stdout",
     "output_type": "stream",
     "text": [
      "http://students.org/bob\n"
     ]
    }
   ],
   "source": [
    "with onto:\n",
    "    print(bob.iri)"
   ]
  },
  {
   "cell_type": "code",
   "execution_count": 31,
   "metadata": {},
   "outputs": [],
   "source": [
    "graph = default_world.as_rdflib_graph()\n",
    "graph.bind('owl', 'http://www.w3.org/2002/07/owl#')"
   ]
  },
  {
   "cell_type": "code",
   "execution_count": 32,
   "metadata": {},
   "outputs": [
    {
     "name": "stdout",
     "output_type": "stream",
     "text": [
      "[(rdflib.term.URIRef('http://students.org/Person'),), (rdflib.term.URIRef('http://students.org/Teacher'),), (rdflib.term.URIRef('http://students.org/Student'),), (rdflib.term.URIRef('http://students.org/Man'),)]\n"
     ]
    }
   ],
   "source": [
    "r = list(graph.query('SELECT ?classe WHERE { <http://students.org/bob> a ?classe . ?classe a owl:Class . }'))\n",
    "print(r)"
   ]
  },
  {
   "cell_type": "code",
   "execution_count": 33,
   "metadata": {},
   "outputs": [],
   "source": [
    "graph.bind(\"student\", \"http://students.org/\")"
   ]
  },
  {
   "cell_type": "code",
   "execution_count": 34,
   "metadata": {},
   "outputs": [
    {
     "name": "stdout",
     "output_type": "stream",
     "text": [
      "[(rdflib.term.URIRef('http://students.org/Person'),), (rdflib.term.URIRef('http://students.org/Teacher'),), (rdflib.term.URIRef('http://students.org/Student'),), (rdflib.term.URIRef('http://students.org/Man'),)]\n"
     ]
    }
   ],
   "source": [
    "r = list(graph.query('SELECT ?classe WHERE { student:bob a ?classe . ?classe a owl:Class . }'))\n",
    "print(r)"
   ]
  },
  {
   "cell_type": "code",
   "execution_count": 35,
   "metadata": {},
   "outputs": [],
   "source": [
    "onto.destroy()"
   ]
  },
  {
   "cell_type": "code",
   "execution_count": 36,
   "metadata": {},
   "outputs": [
    {
     "data": {
      "text/plain": [
       "[students.org.alice, students.org.mary]"
      ]
     },
     "execution_count": 36,
     "metadata": {},
     "output_type": "execute_result"
    }
   ],
   "source": [
    "bob.has_sibling"
   ]
  },
  {
   "cell_type": "code",
   "execution_count": 37,
   "metadata": {},
   "outputs": [
    {
     "data": {
      "text/plain": [
       "'http://students.org/bob'"
      ]
     },
     "execution_count": 37,
     "metadata": {},
     "output_type": "execute_result"
    }
   ],
   "source": [
    "bob.iri"
   ]
  },
  {
   "cell_type": "code",
   "execution_count": 38,
   "metadata": {},
   "outputs": [
    {
     "name": "stdout",
     "output_type": "stream",
     "text": [
      "http://students.org/bob\n"
     ]
    }
   ],
   "source": [
    "with onto:\n",
    "    print(bob.iri)"
   ]
  },
  {
   "cell_type": "code",
   "execution_count": 39,
   "metadata": {},
   "outputs": [
    {
     "ename": "TypeError",
     "evalue": "'NoneType' object is not subscriptable",
     "output_type": "error",
     "traceback": [
      "\u001b[0;31m---------------------------------------------------------------------------\u001b[0m",
      "\u001b[0;31mTypeError\u001b[0m                                 Traceback (most recent call last)",
      "\u001b[0;32m/var/folders/p0/rkhrtqq92j52zvvp9z4cbpnw0000gn/T/ipykernel_10678/1474833337.py\u001b[0m in \u001b[0;36m<module>\u001b[0;34m\u001b[0m\n\u001b[0;32m----> 1\u001b[0;31m \u001b[0monto\u001b[0m\u001b[0;34m.\u001b[0m\u001b[0msave\u001b[0m\u001b[0;34m(\u001b[0m\u001b[0;34m'students.owl'\u001b[0m\u001b[0;34m)\u001b[0m\u001b[0;34m\u001b[0m\u001b[0;34m\u001b[0m\u001b[0m\n\u001b[0m",
      "\u001b[0;32m~/opt/anaconda3/lib/python3.8/site-packages/owlready2/namespace.py\u001b[0m in \u001b[0;36msave\u001b[0;34m(self, file, format, **kargs)\u001b[0m\n\u001b[1;32m    877\u001b[0m       \u001b[0;32mif\u001b[0m \u001b[0m_LOG_LEVEL\u001b[0m\u001b[0;34m:\u001b[0m \u001b[0mprint\u001b[0m\u001b[0;34m(\u001b[0m\u001b[0;34m\"* Owlready2 * Saving ontology %s to %s...\"\u001b[0m \u001b[0;34m%\u001b[0m \u001b[0;34m(\u001b[0m\u001b[0mself\u001b[0m\u001b[0;34m.\u001b[0m\u001b[0mname\u001b[0m\u001b[0;34m,\u001b[0m \u001b[0mfile\u001b[0m\u001b[0;34m)\u001b[0m\u001b[0;34m,\u001b[0m \u001b[0mfile\u001b[0m \u001b[0;34m=\u001b[0m \u001b[0msys\u001b[0m\u001b[0;34m.\u001b[0m\u001b[0mstderr\u001b[0m\u001b[0;34m)\u001b[0m\u001b[0;34m\u001b[0m\u001b[0;34m\u001b[0m\u001b[0m\n\u001b[1;32m    878\u001b[0m       \u001b[0mfile\u001b[0m \u001b[0;34m=\u001b[0m \u001b[0mopen\u001b[0m\u001b[0;34m(\u001b[0m\u001b[0mfile\u001b[0m\u001b[0;34m,\u001b[0m \u001b[0;34m\"wb\"\u001b[0m\u001b[0;34m)\u001b[0m\u001b[0;34m\u001b[0m\u001b[0;34m\u001b[0m\u001b[0m\n\u001b[0;32m--> 879\u001b[0;31m       \u001b[0mself\u001b[0m\u001b[0;34m.\u001b[0m\u001b[0mgraph\u001b[0m\u001b[0;34m.\u001b[0m\u001b[0msave\u001b[0m\u001b[0;34m(\u001b[0m\u001b[0mfile\u001b[0m\u001b[0;34m,\u001b[0m \u001b[0mformat\u001b[0m\u001b[0;34m,\u001b[0m \u001b[0;34m**\u001b[0m\u001b[0mkargs\u001b[0m\u001b[0;34m)\u001b[0m\u001b[0;34m\u001b[0m\u001b[0;34m\u001b[0m\u001b[0m\n\u001b[0m\u001b[1;32m    880\u001b[0m       \u001b[0mfile\u001b[0m\u001b[0;34m.\u001b[0m\u001b[0mclose\u001b[0m\u001b[0;34m(\u001b[0m\u001b[0;34m)\u001b[0m\u001b[0;34m\u001b[0m\u001b[0;34m\u001b[0m\u001b[0m\n\u001b[1;32m    881\u001b[0m     \u001b[0;32melse\u001b[0m\u001b[0;34m:\u001b[0m\u001b[0;34m\u001b[0m\u001b[0;34m\u001b[0m\u001b[0m\n",
      "\u001b[0;32m~/opt/anaconda3/lib/python3.8/site-packages/owlready2/driver.py\u001b[0m in \u001b[0;36msave\u001b[0;34m(self, f, format, commit, **kargs)\u001b[0m\n\u001b[1;32m    223\u001b[0m   \u001b[0;32mdef\u001b[0m \u001b[0msave\u001b[0m\u001b[0;34m(\u001b[0m\u001b[0mself\u001b[0m\u001b[0;34m,\u001b[0m \u001b[0mf\u001b[0m\u001b[0;34m,\u001b[0m \u001b[0mformat\u001b[0m \u001b[0;34m=\u001b[0m \u001b[0;34m\"rdfxml\"\u001b[0m\u001b[0;34m,\u001b[0m \u001b[0mcommit\u001b[0m \u001b[0;34m=\u001b[0m \u001b[0;32mFalse\u001b[0m\u001b[0;34m,\u001b[0m \u001b[0;34m**\u001b[0m\u001b[0mkargs\u001b[0m\u001b[0;34m)\u001b[0m\u001b[0;34m:\u001b[0m\u001b[0;34m\u001b[0m\u001b[0;34m\u001b[0m\u001b[0m\n\u001b[1;32m    224\u001b[0m     \u001b[0;32mif\u001b[0m \u001b[0mcommit\u001b[0m\u001b[0;34m:\u001b[0m \u001b[0mself\u001b[0m\u001b[0;34m.\u001b[0m\u001b[0mparent\u001b[0m\u001b[0;34m.\u001b[0m\u001b[0mcommit\u001b[0m\u001b[0;34m(\u001b[0m\u001b[0;34m)\u001b[0m\u001b[0;34m\u001b[0m\u001b[0;34m\u001b[0m\u001b[0m\n\u001b[0;32m--> 225\u001b[0;31m     \u001b[0m_save\u001b[0m\u001b[0;34m(\u001b[0m\u001b[0mf\u001b[0m\u001b[0;34m,\u001b[0m \u001b[0mformat\u001b[0m\u001b[0;34m,\u001b[0m \u001b[0mself\u001b[0m\u001b[0;34m,\u001b[0m \u001b[0;34m**\u001b[0m\u001b[0mkargs\u001b[0m\u001b[0;34m)\u001b[0m\u001b[0;34m\u001b[0m\u001b[0;34m\u001b[0m\u001b[0m\n\u001b[0m\u001b[1;32m    226\u001b[0m \u001b[0;34m\u001b[0m\u001b[0m\n\u001b[1;32m    227\u001b[0m \u001b[0;34m\u001b[0m\u001b[0m\n",
      "\u001b[0;32m~/opt/anaconda3/lib/python3.8/site-packages/owlready2/driver.py\u001b[0m in \u001b[0;36m_save\u001b[0;34m(f, format, graph, filter)\u001b[0m\n\u001b[1;32m    296\u001b[0m       \u001b[0;32mreturn\u001b[0m \u001b[0mr\u001b[0m\u001b[0;34m\u001b[0m\u001b[0;34m\u001b[0m\u001b[0m\n\u001b[1;32m    297\u001b[0m \u001b[0;34m\u001b[0m\u001b[0m\n\u001b[0;32m--> 298\u001b[0;31m     \u001b[0mbase_iri\u001b[0m \u001b[0;34m=\u001b[0m \u001b[0mgraph\u001b[0m\u001b[0;34m.\u001b[0m\u001b[0m_iter_ontology_iri\u001b[0m\u001b[0;34m(\u001b[0m\u001b[0mgraph\u001b[0m\u001b[0;34m.\u001b[0m\u001b[0mc\u001b[0m\u001b[0;34m)\u001b[0m\u001b[0;34m\u001b[0m\u001b[0;34m\u001b[0m\u001b[0m\n\u001b[0m\u001b[1;32m    299\u001b[0m \u001b[0;34m\u001b[0m\u001b[0m\n\u001b[1;32m    300\u001b[0m     xmlns = {\n",
      "\u001b[0;32m~/opt/anaconda3/lib/python3.8/site-packages/owlready2/triplelite.py\u001b[0m in \u001b[0;36m_iter_ontology_iri\u001b[0;34m(self, c)\u001b[0m\n\u001b[1;32m   1426\u001b[0m   \u001b[0;32mdef\u001b[0m \u001b[0m_iter_ontology_iri\u001b[0m\u001b[0;34m(\u001b[0m\u001b[0mself\u001b[0m\u001b[0;34m,\u001b[0m \u001b[0mc\u001b[0m \u001b[0;34m=\u001b[0m \u001b[0;32mNone\u001b[0m\u001b[0;34m)\u001b[0m\u001b[0;34m:\u001b[0m\u001b[0;34m\u001b[0m\u001b[0;34m\u001b[0m\u001b[0m\n\u001b[1;32m   1427\u001b[0m     \u001b[0;32mif\u001b[0m \u001b[0mc\u001b[0m\u001b[0;34m:\u001b[0m\u001b[0;34m\u001b[0m\u001b[0;34m\u001b[0m\u001b[0m\n\u001b[0;32m-> 1428\u001b[0;31m       \u001b[0;32mreturn\u001b[0m \u001b[0mself\u001b[0m\u001b[0;34m.\u001b[0m\u001b[0mexecute\u001b[0m\u001b[0;34m(\u001b[0m\u001b[0;34m\"SELECT iri FROM ontologies WHERE c=?\"\u001b[0m\u001b[0;34m,\u001b[0m \u001b[0;34m(\u001b[0m\u001b[0mc\u001b[0m\u001b[0;34m,\u001b[0m\u001b[0;34m)\u001b[0m\u001b[0;34m)\u001b[0m\u001b[0;34m.\u001b[0m\u001b[0mfetchone\u001b[0m\u001b[0;34m(\u001b[0m\u001b[0;34m)\u001b[0m\u001b[0;34m[\u001b[0m\u001b[0;36m0\u001b[0m\u001b[0;34m]\u001b[0m\u001b[0;34m\u001b[0m\u001b[0;34m\u001b[0m\u001b[0m\n\u001b[0m\u001b[1;32m   1429\u001b[0m     \u001b[0;32melse\u001b[0m\u001b[0;34m:\u001b[0m\u001b[0;34m\u001b[0m\u001b[0;34m\u001b[0m\u001b[0m\n\u001b[1;32m   1430\u001b[0m       \u001b[0;32mreturn\u001b[0m \u001b[0mself\u001b[0m\u001b[0;34m.\u001b[0m\u001b[0mexecute\u001b[0m\u001b[0;34m(\u001b[0m\u001b[0;34m\"SELECT c, iri FROM ontologies\"\u001b[0m\u001b[0;34m)\u001b[0m\u001b[0;34m.\u001b[0m\u001b[0mfetchall\u001b[0m\u001b[0;34m(\u001b[0m\u001b[0;34m)\u001b[0m\u001b[0;34m\u001b[0m\u001b[0;34m\u001b[0m\u001b[0m\n",
      "\u001b[0;31mTypeError\u001b[0m: 'NoneType' object is not subscriptable"
     ]
    }
   ],
   "source": [
    "onto.save('students.owl')"
   ]
  },
  {
   "cell_type": "code",
   "execution_count": null,
   "metadata": {},
   "outputs": [],
   "source": []
  }
 ],
 "metadata": {
  "kernelspec": {
   "display_name": "Python 3 (ipykernel)",
   "language": "python",
   "name": "python3"
  },
  "language_info": {
   "codemirror_mode": {
    "name": "ipython",
    "version": 3
   },
   "file_extension": ".py",
   "mimetype": "text/x-python",
   "name": "python",
   "nbconvert_exporter": "python",
   "pygments_lexer": "ipython3",
   "version": "3.8.10"
  }
 },
 "nbformat": 4,
 "nbformat_minor": 4
}
