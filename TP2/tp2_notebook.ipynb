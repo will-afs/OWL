{
 "cells": [
  {
   "cell_type": "code",
   "execution_count": 53,
   "metadata": {},
   "outputs": [],
   "source": [
    "from owlready2 import owlready2, get_ontology, sync_reasoner_pellet, Thing, Not, And, default_world, AllDifferent, AllDisjoint, Imp"
   ]
  },
  {
   "cell_type": "code",
   "execution_count": 54,
   "metadata": {},
   "outputs": [],
   "source": [
    "owlready2.JAVA_EXE='/usr/bin/java'"
   ]
  },
  {
   "cell_type": "code",
   "execution_count": 55,
   "metadata": {},
   "outputs": [],
   "source": [
    "TMP_FOLDER = './tmp/'"
   ]
  },
  {
   "cell_type": "code",
   "execution_count": 56,
   "metadata": {},
   "outputs": [],
   "source": [
    "onto = get_ontology('http://students.org/') # new ontology, providing its IRI\n",
    "with onto:\n",
    "    # Define a Person\n",
    "    class Person(Thing):  # new subclass of Thing\n",
    "        pass\n",
    "    \n",
    "    # Define a Course\n",
    "    class Course(Thing):\n",
    "        # subclass of not a Person\n",
    "        is_a = [Not(onto.Person)]\n",
    "        \n",
    "    # AllDisjoint([Person, Course])\n",
    "    \n",
    "    # A Person can teach a Course\n",
    "    class teaches(Person >> Course): pass\n",
    "    \n",
    "    # Define a Teacher\n",
    "    class Teacher(Thing):\n",
    "        # as a Person who teaches some Course\n",
    "        equivalent_to = [And([Person, teaches.some(Course)])]\n",
    "        \n",
    "    # A Person can attend a Course    \n",
    "    class attends(Person >> Course): pass\n",
    "    \n",
    "    # Define a Student\n",
    "    class Student(Thing):\n",
    "        # as a Person who attends some Course\n",
    "        equivalent_to = [And([Person, attends.some(Course)])]"
   ]
  },
  {
   "cell_type": "code",
   "execution_count": 57,
   "metadata": {},
   "outputs": [
    {
     "name": "stdout",
     "output_type": "stream",
     "text": [
      "{owl.Thing, students.org.Person}\n"
     ]
    }
   ],
   "source": [
    "with onto:\n",
    "    print(Person.ancestors()) # Print every superclasses"
   ]
  },
  {
   "cell_type": "code",
   "execution_count": 58,
   "metadata": {},
   "outputs": [],
   "source": [
    "# Define some individuals\n",
    "with onto:\n",
    "    mary = Person(name='mary') # mary is instance of class Personne\n",
    "    cs600 = Course(name='cs600')\n",
    "    alice = Person(name='alice')\n",
    "    alice.teaches = [cs600]\n",
    "    mary.attends = [cs600]"
   ]
  },
  {
   "cell_type": "code",
   "execution_count": 59,
   "metadata": {},
   "outputs": [
    {
     "name": "stdout",
     "output_type": "stream",
     "text": [
      "students.org.alice [students.org.Teacher, students.org.Woman, students.org.Woman]\n",
      "students.org.mary [students.org.Student, students.org.Woman, students.org.Woman]\n"
     ]
    }
   ],
   "source": [
    " # Check what are alice and mary\n",
    "with onto:\n",
    "    print(alice, alice.is_a)\n",
    "    print(mary, mary.is_a)"
   ]
  },
  {
   "cell_type": "code",
   "execution_count": 60,
   "metadata": {},
   "outputs": [
    {
     "name": "stdout",
     "output_type": "stream",
     "text": [
      ".attends == students.org.cs600\n"
     ]
    }
   ],
   "source": [
    "with onto:\n",
    "    for prop in mary.get_properties():   # Each properties of Mary with their values\n",
    "        for value in prop[onto.mary]:\n",
    "            print(\".%s == %s\" % (prop.name, value))\n"
   ]
  },
  {
   "cell_type": "code",
   "execution_count": 61,
   "metadata": {},
   "outputs": [],
   "source": [
    "onto.save(TMP_FOLDER + \"students.owl\") # This save is bug-prone - generation of <stud:Person rdf:about=\"alice\">"
   ]
  },
  {
   "cell_type": "code",
   "execution_count": 62,
   "metadata": {},
   "outputs": [],
   "source": [
    "default_world.save(TMP_FOLDER + 'world.owl') # generation of <stud:Person rdf:about=\"http://students.org/alice\">"
   ]
  },
  {
   "cell_type": "code",
   "execution_count": 63,
   "metadata": {},
   "outputs": [
    {
     "name": "stderr",
     "output_type": "stream",
     "text": [
      "* Owlready2 * Running Pellet...\n",
      "    /usr/bin/java -Xmx2000M -cp /home/william/Programming/OWL/.venv/lib/python3.8/site-packages/owlready2/pellet/commons-codec-1.6.jar:/home/william/Programming/OWL/.venv/lib/python3.8/site-packages/owlready2/pellet/slf4j-log4j12-1.6.4.jar:/home/william/Programming/OWL/.venv/lib/python3.8/site-packages/owlready2/pellet/jena-iri-0.9.5.jar:/home/william/Programming/OWL/.venv/lib/python3.8/site-packages/owlready2/pellet/jena-arq-2.10.0.jar:/home/william/Programming/OWL/.venv/lib/python3.8/site-packages/owlready2/pellet/xml-apis-1.4.01.jar:/home/william/Programming/OWL/.venv/lib/python3.8/site-packages/owlready2/pellet/antlr-3.2.jar:/home/william/Programming/OWL/.venv/lib/python3.8/site-packages/owlready2/pellet/jcl-over-slf4j-1.6.4.jar:/home/william/Programming/OWL/.venv/lib/python3.8/site-packages/owlready2/pellet/xercesImpl-2.10.0.jar:/home/william/Programming/OWL/.venv/lib/python3.8/site-packages/owlready2/pellet/jena-core-2.10.0.jar:/home/william/Programming/OWL/.venv/lib/python3.8/site-packages/owlready2/pellet/aterm-java-1.6.jar:/home/william/Programming/OWL/.venv/lib/python3.8/site-packages/owlready2/pellet/log4j-1.2.16.jar:/home/william/Programming/OWL/.venv/lib/python3.8/site-packages/owlready2/pellet/httpcore-4.2.2.jar:/home/william/Programming/OWL/.venv/lib/python3.8/site-packages/owlready2/pellet/owlapi-distribution-3.4.3-bin.jar:/home/william/Programming/OWL/.venv/lib/python3.8/site-packages/owlready2/pellet/jgrapht-jdk1.5.jar:/home/william/Programming/OWL/.venv/lib/python3.8/site-packages/owlready2/pellet/antlr-runtime-3.2.jar:/home/william/Programming/OWL/.venv/lib/python3.8/site-packages/owlready2/pellet/httpclient-4.2.3.jar:/home/william/Programming/OWL/.venv/lib/python3.8/site-packages/owlready2/pellet/jena-tdb-0.10.0.jar:/home/william/Programming/OWL/.venv/lib/python3.8/site-packages/owlready2/pellet/slf4j-api-1.6.4.jar:/home/william/Programming/OWL/.venv/lib/python3.8/site-packages/owlready2/pellet/pellet-2.3.1.jar pellet.Pellet realize --loader Jena --input-format N-Triples --infer-prop-values --infer-data-prop-values --ignore-imports /tmp/tmp4_491xoy\n",
      "* Owlready2 * Pellet took 3.6285977363586426 seconds\n",
      "* Owlready * Reparenting students.org.esther: {students.org.Woman, students.org.Person} => {students.org.Woman}\n",
      "* Owlready * (NB: only changes on entities loaded in Python are shown, other changes are done but not listed)\n"
     ]
    }
   ],
   "source": [
    "# Synchronizing reasoner\n",
    "sync_reasoner_pellet([onto], infer_property_values=True, infer_data_property_values=True, debug=True, keep_tmp_file=True)"
   ]
  },
  {
   "cell_type": "code",
   "execution_count": 64,
   "metadata": {},
   "outputs": [
    {
     "name": "stdout",
     "output_type": "stream",
     "text": [
      "students.org.alice [students.org.Teacher, students.org.Woman, students.org.Woman]\n",
      "students.org.mary [students.org.Student, students.org.Woman, students.org.Woman]\n"
     ]
    }
   ],
   "source": [
    "with onto:\n",
    "    # Check what are alice and mary after Pellet\n",
    "    print(alice, alice.is_a)\n",
    "    print(mary, mary.is_a)\n"
   ]
  },
  {
   "cell_type": "code",
   "execution_count": 65,
   "metadata": {},
   "outputs": [
    {
     "name": "stdout",
     "output_type": "stream",
     "text": [
      "[students.org.Teacher, students.org.Student, students.org.Man, students.org.Man]\n"
     ]
    }
   ],
   "source": [
    "with onto:\n",
    "    # Define a new Course\n",
    "    cs101 = Course(name='cs101')\n",
    "    \n",
    "    # Define bob as a Person\n",
    "    bob = Person(name='bob')\n",
    "    # who is teaching cs101\n",
    "    bob.teaches = [cs101]\n",
    "    # and attending cs600\n",
    "    bob.attends = [cs600]\n",
    "    \n",
    "# print what is bob\n",
    "print(bob.is_a)"
   ]
  },
  {
   "cell_type": "code",
   "execution_count": 66,
   "metadata": {},
   "outputs": [
    {
     "name": "stderr",
     "output_type": "stream",
     "text": [
      "* Owlready2 * Running Pellet...\n",
      "    /usr/bin/java -Xmx2000M -cp /home/william/Programming/OWL/.venv/lib/python3.8/site-packages/owlready2/pellet/commons-codec-1.6.jar:/home/william/Programming/OWL/.venv/lib/python3.8/site-packages/owlready2/pellet/slf4j-log4j12-1.6.4.jar:/home/william/Programming/OWL/.venv/lib/python3.8/site-packages/owlready2/pellet/jena-iri-0.9.5.jar:/home/william/Programming/OWL/.venv/lib/python3.8/site-packages/owlready2/pellet/jena-arq-2.10.0.jar:/home/william/Programming/OWL/.venv/lib/python3.8/site-packages/owlready2/pellet/xml-apis-1.4.01.jar:/home/william/Programming/OWL/.venv/lib/python3.8/site-packages/owlready2/pellet/antlr-3.2.jar:/home/william/Programming/OWL/.venv/lib/python3.8/site-packages/owlready2/pellet/jcl-over-slf4j-1.6.4.jar:/home/william/Programming/OWL/.venv/lib/python3.8/site-packages/owlready2/pellet/xercesImpl-2.10.0.jar:/home/william/Programming/OWL/.venv/lib/python3.8/site-packages/owlready2/pellet/jena-core-2.10.0.jar:/home/william/Programming/OWL/.venv/lib/python3.8/site-packages/owlready2/pellet/aterm-java-1.6.jar:/home/william/Programming/OWL/.venv/lib/python3.8/site-packages/owlready2/pellet/log4j-1.2.16.jar:/home/william/Programming/OWL/.venv/lib/python3.8/site-packages/owlready2/pellet/httpcore-4.2.2.jar:/home/william/Programming/OWL/.venv/lib/python3.8/site-packages/owlready2/pellet/owlapi-distribution-3.4.3-bin.jar:/home/william/Programming/OWL/.venv/lib/python3.8/site-packages/owlready2/pellet/jgrapht-jdk1.5.jar:/home/william/Programming/OWL/.venv/lib/python3.8/site-packages/owlready2/pellet/antlr-runtime-3.2.jar:/home/william/Programming/OWL/.venv/lib/python3.8/site-packages/owlready2/pellet/httpclient-4.2.3.jar:/home/william/Programming/OWL/.venv/lib/python3.8/site-packages/owlready2/pellet/jena-tdb-0.10.0.jar:/home/william/Programming/OWL/.venv/lib/python3.8/site-packages/owlready2/pellet/slf4j-api-1.6.4.jar:/home/william/Programming/OWL/.venv/lib/python3.8/site-packages/owlready2/pellet/pellet-2.3.1.jar pellet.Pellet realize --loader Jena --input-format N-Triples --infer-prop-values --infer-data-prop-values --ignore-imports /tmp/tmpxvv74ly7\n",
      "* Owlready2 * Pellet took 3.148334503173828 seconds\n",
      "* Owlready * (NB: only changes on entities loaded in Python are shown, other changes are done but not listed)\n"
     ]
    }
   ],
   "source": [
    "# Synchronizing reasoner\n",
    "sync_reasoner_pellet([onto], infer_property_values=True, infer_data_property_values=True, debug=True, keep_tmp_file=True)"
   ]
  },
  {
   "cell_type": "code",
   "execution_count": 67,
   "metadata": {},
   "outputs": [
    {
     "data": {
      "text/plain": [
       "[students.org.Teacher,\n",
       " students.org.Student,\n",
       " students.org.Man,\n",
       " students.org.Man]"
      ]
     },
     "execution_count": 67,
     "metadata": {},
     "output_type": "execute_result"
    }
   ],
   "source": [
    "# Check what is bob\n",
    "bob.is_a"
   ]
  },
  {
   "cell_type": "code",
   "execution_count": 68,
   "metadata": {},
   "outputs": [
    {
     "name": "stdout",
     "output_type": "stream",
     "text": [
      "[]\n"
     ]
    }
   ],
   "source": [
    "# Check if any inconsistent classes\n",
    "print(list(onto.world.inconsistent_classes()))"
   ]
  },
  {
   "cell_type": "code",
   "execution_count": 69,
   "metadata": {},
   "outputs": [],
   "source": [
    "# Add some new relation\n",
    "with onto:\n",
    "    class Man(Thing):\n",
    "        is_a = [Person]\n",
    "    class Woman(Thing):\n",
    "        is_a = [Person]\n",
    "        \n",
    "    # Man and Woman are disjoint (no transgender)\n",
    "    AllDisjoint([Man,Woman])        \n",
    "    \n",
    "    class has_sibling(Person >> Person): pass\n",
    "    \n",
    "    bob.is_a.append(Man)\n",
    "    alice.is_a.append(Woman)\n",
    "    mary.is_a.append(Woman)"
   ]
  },
  {
   "cell_type": "code",
   "execution_count": 70,
   "metadata": {},
   "outputs": [
    {
     "name": "stderr",
     "output_type": "stream",
     "text": [
      "* Owlready2 * Running Pellet...\n",
      "    /usr/bin/java -Xmx2000M -cp /home/william/Programming/OWL/.venv/lib/python3.8/site-packages/owlready2/pellet/commons-codec-1.6.jar:/home/william/Programming/OWL/.venv/lib/python3.8/site-packages/owlready2/pellet/slf4j-log4j12-1.6.4.jar:/home/william/Programming/OWL/.venv/lib/python3.8/site-packages/owlready2/pellet/jena-iri-0.9.5.jar:/home/william/Programming/OWL/.venv/lib/python3.8/site-packages/owlready2/pellet/jena-arq-2.10.0.jar:/home/william/Programming/OWL/.venv/lib/python3.8/site-packages/owlready2/pellet/xml-apis-1.4.01.jar:/home/william/Programming/OWL/.venv/lib/python3.8/site-packages/owlready2/pellet/antlr-3.2.jar:/home/william/Programming/OWL/.venv/lib/python3.8/site-packages/owlready2/pellet/jcl-over-slf4j-1.6.4.jar:/home/william/Programming/OWL/.venv/lib/python3.8/site-packages/owlready2/pellet/xercesImpl-2.10.0.jar:/home/william/Programming/OWL/.venv/lib/python3.8/site-packages/owlready2/pellet/jena-core-2.10.0.jar:/home/william/Programming/OWL/.venv/lib/python3.8/site-packages/owlready2/pellet/aterm-java-1.6.jar:/home/william/Programming/OWL/.venv/lib/python3.8/site-packages/owlready2/pellet/log4j-1.2.16.jar:/home/william/Programming/OWL/.venv/lib/python3.8/site-packages/owlready2/pellet/httpcore-4.2.2.jar:/home/william/Programming/OWL/.venv/lib/python3.8/site-packages/owlready2/pellet/owlapi-distribution-3.4.3-bin.jar:/home/william/Programming/OWL/.venv/lib/python3.8/site-packages/owlready2/pellet/jgrapht-jdk1.5.jar:/home/william/Programming/OWL/.venv/lib/python3.8/site-packages/owlready2/pellet/antlr-runtime-3.2.jar:/home/william/Programming/OWL/.venv/lib/python3.8/site-packages/owlready2/pellet/httpclient-4.2.3.jar:/home/william/Programming/OWL/.venv/lib/python3.8/site-packages/owlready2/pellet/jena-tdb-0.10.0.jar:/home/william/Programming/OWL/.venv/lib/python3.8/site-packages/owlready2/pellet/slf4j-api-1.6.4.jar:/home/william/Programming/OWL/.venv/lib/python3.8/site-packages/owlready2/pellet/pellet-2.3.1.jar pellet.Pellet realize --loader Jena --input-format N-Triples --infer-prop-values --infer-data-prop-values --ignore-imports /tmp/tmpjm1t474k\n",
      "* Owlready2 * Pellet took 3.3379580974578857 seconds\n",
      "* Owlready * Reparenting students.org.Man: {owl.Thing, students.org.Person} => {students.org.Person}\n",
      "* Owlready * Reparenting students.org.Woman: {owl.Thing, students.org.Person} => {students.org.Person}\n",
      "* Owlready * (NB: only changes on entities loaded in Python are shown, other changes are done but not listed)\n"
     ]
    }
   ],
   "source": [
    "# Synchronizing reasoner\n",
    "sync_reasoner_pellet([onto], infer_property_values=True, infer_data_property_values=True, debug=True, keep_tmp_file=True)"
   ]
  },
  {
   "cell_type": "code",
   "execution_count": 71,
   "metadata": {},
   "outputs": [
    {
     "data": {
      "text/plain": [
       "[students.org.Teacher,\n",
       " students.org.Student,\n",
       " students.org.Man,\n",
       " students.org.Man,\n",
       " students.org.Man]"
      ]
     },
     "execution_count": 71,
     "metadata": {},
     "output_type": "execute_result"
    }
   ],
   "source": [
    "bob.is_a"
   ]
  },
  {
   "cell_type": "code",
   "execution_count": null,
   "metadata": {},
   "outputs": [],
   "source": [
    "# Creating the Imply rules\n",
    "with onto:\n",
    "    imp = Imp()"
   ]
  },
  {
   "cell_type": "code",
   "execution_count": 72,
   "metadata": {},
   "outputs": [],
   "source": [
    "# Defining a new rule (transitivity) : Two different Person having a common sibling different from them are siblings themselves\n",
    "with onto:\n",
    "    imp.set_as_rule(\"Person(?x), Person(?y), Person(?z), \\\n",
    "                     DifferentFrom(?x, ?y), DifferentFrom(?y, ?z), DifferentFrom(?x, ?z), \\\n",
    "                     has_sibling(?x, ?y), has_sibling(?y, ?z) -> has_sibling(?x, ?z)\")"
   ]
  },
  {
   "cell_type": "code",
   "execution_count": 73,
   "metadata": {},
   "outputs": [
    {
     "data": {
      "text/plain": [
       "AllDisjoint([students.org.bob, students.org.alice, students.org.mary])"
      ]
     },
     "execution_count": 73,
     "metadata": {},
     "output_type": "execute_result"
    }
   ],
   "source": [
    "# Ensure that alice, bob, mary are not the same\n",
    "AllDifferent([bob, alice, mary])"
   ]
  },
  {
   "cell_type": "code",
   "execution_count": 74,
   "metadata": {},
   "outputs": [],
   "source": [
    "# Add some siblings\n",
    "with onto:\n",
    "    bob.has_sibling = [alice]\n",
    "    alice.has_sibling = [mary]"
   ]
  },
  {
   "cell_type": "code",
   "execution_count": 75,
   "metadata": {
    "scrolled": true
   },
   "outputs": [
    {
     "name": "stderr",
     "output_type": "stream",
     "text": [
      "* Owlready2 * Running Pellet...\n",
      "    /usr/bin/java -Xmx2000M -cp /home/william/Programming/OWL/.venv/lib/python3.8/site-packages/owlready2/pellet/commons-codec-1.6.jar:/home/william/Programming/OWL/.venv/lib/python3.8/site-packages/owlready2/pellet/slf4j-log4j12-1.6.4.jar:/home/william/Programming/OWL/.venv/lib/python3.8/site-packages/owlready2/pellet/jena-iri-0.9.5.jar:/home/william/Programming/OWL/.venv/lib/python3.8/site-packages/owlready2/pellet/jena-arq-2.10.0.jar:/home/william/Programming/OWL/.venv/lib/python3.8/site-packages/owlready2/pellet/xml-apis-1.4.01.jar:/home/william/Programming/OWL/.venv/lib/python3.8/site-packages/owlready2/pellet/antlr-3.2.jar:/home/william/Programming/OWL/.venv/lib/python3.8/site-packages/owlready2/pellet/jcl-over-slf4j-1.6.4.jar:/home/william/Programming/OWL/.venv/lib/python3.8/site-packages/owlready2/pellet/xercesImpl-2.10.0.jar:/home/william/Programming/OWL/.venv/lib/python3.8/site-packages/owlready2/pellet/jena-core-2.10.0.jar:/home/william/Programming/OWL/.venv/lib/python3.8/site-packages/owlready2/pellet/aterm-java-1.6.jar:/home/william/Programming/OWL/.venv/lib/python3.8/site-packages/owlready2/pellet/log4j-1.2.16.jar:/home/william/Programming/OWL/.venv/lib/python3.8/site-packages/owlready2/pellet/httpcore-4.2.2.jar:/home/william/Programming/OWL/.venv/lib/python3.8/site-packages/owlready2/pellet/owlapi-distribution-3.4.3-bin.jar:/home/william/Programming/OWL/.venv/lib/python3.8/site-packages/owlready2/pellet/jgrapht-jdk1.5.jar:/home/william/Programming/OWL/.venv/lib/python3.8/site-packages/owlready2/pellet/antlr-runtime-3.2.jar:/home/william/Programming/OWL/.venv/lib/python3.8/site-packages/owlready2/pellet/httpclient-4.2.3.jar:/home/william/Programming/OWL/.venv/lib/python3.8/site-packages/owlready2/pellet/jena-tdb-0.10.0.jar:/home/william/Programming/OWL/.venv/lib/python3.8/site-packages/owlready2/pellet/slf4j-api-1.6.4.jar:/home/william/Programming/OWL/.venv/lib/python3.8/site-packages/owlready2/pellet/pellet-2.3.1.jar pellet.Pellet realize --loader Jena --input-format N-Triples --infer-prop-values --infer-data-prop-values --ignore-imports /tmp/tmpqxt75n41\n"
     ]
    },
    {
     "name": "stdout",
     "output_type": "stream",
     "text": [
      "* Owlready * Adding relation students.org.bob has_sibling students.org.esther\n"
     ]
    },
    {
     "name": "stderr",
     "output_type": "stream",
     "text": [
      "* Owlready2 * Pellet took 3.3277955055236816 seconds\n",
      "* Owlready * (NB: only changes on entities loaded in Python are shown, other changes are done but not listed)\n"
     ]
    }
   ],
   "source": [
    "# Synchronizing reasoner\n",
    "sync_reasoner_pellet([onto], infer_property_values=True, infer_data_property_values=True, debug=True, keep_tmp_file=True)"
   ]
  },
  {
   "cell_type": "code",
   "execution_count": 76,
   "metadata": {},
   "outputs": [
    {
     "data": {
      "text/plain": [
       "[students.org.mary, students.org.alice, students.org.esther]"
      ]
     },
     "execution_count": 76,
     "metadata": {},
     "output_type": "execute_result"
    }
   ],
   "source": [
    "# The reasoner should have deduced that bob has mary as sibling\n",
    "bob.has_sibling"
   ]
  },
  {
   "cell_type": "code",
   "execution_count": 77,
   "metadata": {},
   "outputs": [],
   "source": [
    "# Creating a new relation : has_sister\n",
    "with onto:\n",
    "    class has_sister(has_sibling):\n",
    "        domain = [Person]\n",
    "        range = [Woman]"
   ]
  },
  {
   "cell_type": "code",
   "execution_count": 78,
   "metadata": {},
   "outputs": [
    {
     "name": "stdout",
     "output_type": "stream",
     "text": [
      "[students.org.esther]\n",
      "[students.org.mary, students.org.alice, students.org.esther]\n"
     ]
    }
   ],
   "source": [
    "# Checking has_sister inherits correctly from has_sibling\n",
    "with onto:\n",
    "    esther = Woman(name = 'esther')\n",
    "    bob.has_sister = [esther]\n",
    "    print(bob.has_sister)\n",
    "    print(bob.has_sibling)"
   ]
  },
  {
   "cell_type": "code",
   "execution_count": 79,
   "metadata": {},
   "outputs": [],
   "source": [
    "# Defining a new rule (reciprocity) : Two different Person having a common sibling different from them are siblings themselves\n",
    "with onto:\n",
    "    imp.set_as_rule(\"Person(?x), Person(?y),\\\n",
    "                     DifferentFrom(?x, ?y),\\\n",
    "                     has_sibling(?x, ?y) -> has_sibling(?y, ?x)\")"
   ]
  },
  {
   "cell_type": "code",
   "execution_count": 81,
   "metadata": {},
   "outputs": [
    {
     "name": "stderr",
     "output_type": "stream",
     "text": [
      "* Owlready2 * Running Pellet...\n",
      "    /usr/bin/java -Xmx2000M -cp /home/william/Programming/OWL/.venv/lib/python3.8/site-packages/owlready2/pellet/commons-codec-1.6.jar:/home/william/Programming/OWL/.venv/lib/python3.8/site-packages/owlready2/pellet/slf4j-log4j12-1.6.4.jar:/home/william/Programming/OWL/.venv/lib/python3.8/site-packages/owlready2/pellet/jena-iri-0.9.5.jar:/home/william/Programming/OWL/.venv/lib/python3.8/site-packages/owlready2/pellet/jena-arq-2.10.0.jar:/home/william/Programming/OWL/.venv/lib/python3.8/site-packages/owlready2/pellet/xml-apis-1.4.01.jar:/home/william/Programming/OWL/.venv/lib/python3.8/site-packages/owlready2/pellet/antlr-3.2.jar:/home/william/Programming/OWL/.venv/lib/python3.8/site-packages/owlready2/pellet/jcl-over-slf4j-1.6.4.jar:/home/william/Programming/OWL/.venv/lib/python3.8/site-packages/owlready2/pellet/xercesImpl-2.10.0.jar:/home/william/Programming/OWL/.venv/lib/python3.8/site-packages/owlready2/pellet/jena-core-2.10.0.jar:/home/william/Programming/OWL/.venv/lib/python3.8/site-packages/owlready2/pellet/aterm-java-1.6.jar:/home/william/Programming/OWL/.venv/lib/python3.8/site-packages/owlready2/pellet/log4j-1.2.16.jar:/home/william/Programming/OWL/.venv/lib/python3.8/site-packages/owlready2/pellet/httpcore-4.2.2.jar:/home/william/Programming/OWL/.venv/lib/python3.8/site-packages/owlready2/pellet/owlapi-distribution-3.4.3-bin.jar:/home/william/Programming/OWL/.venv/lib/python3.8/site-packages/owlready2/pellet/jgrapht-jdk1.5.jar:/home/william/Programming/OWL/.venv/lib/python3.8/site-packages/owlready2/pellet/antlr-runtime-3.2.jar:/home/william/Programming/OWL/.venv/lib/python3.8/site-packages/owlready2/pellet/httpclient-4.2.3.jar:/home/william/Programming/OWL/.venv/lib/python3.8/site-packages/owlready2/pellet/jena-tdb-0.10.0.jar:/home/william/Programming/OWL/.venv/lib/python3.8/site-packages/owlready2/pellet/slf4j-api-1.6.4.jar:/home/william/Programming/OWL/.venv/lib/python3.8/site-packages/owlready2/pellet/pellet-2.3.1.jar pellet.Pellet realize --loader Jena --input-format N-Triples --infer-prop-values --infer-data-prop-values --ignore-imports /tmp/tmpqi46fj_n\n"
     ]
    },
    {
     "name": "stdout",
     "output_type": "stream",
     "text": [
      "* Owlready * Adding relation students.org.mary has_sibling students.org.bob\n",
      "* Owlready * Adding relation students.org.mary has_sibling students.org.alice\n",
      "* Owlready * Adding relation students.org.esther has_sibling students.org.bob\n",
      "* Owlready * Adding relation students.org.alice has_sibling students.org.bob\n"
     ]
    },
    {
     "name": "stderr",
     "output_type": "stream",
     "text": [
      "* Owlready2 * Pellet took 3.8001279830932617 seconds\n",
      "* Owlready * (NB: only changes on entities loaded in Python are shown, other changes are done but not listed)\n"
     ]
    }
   ],
   "source": [
    "# Synchronizing reasoner\n",
    "sync_reasoner_pellet([onto], infer_property_values=True, infer_data_property_values=True, debug=True, keep_tmp_file=True)"
   ]
  },
  {
   "cell_type": "code",
   "execution_count": 83,
   "metadata": {},
   "outputs": [
    {
     "name": "stdout",
     "output_type": "stream",
     "text": [
      "[students.org.mary, students.org.bob]\n"
     ]
    }
   ],
   "source": [
    "# Checking latter rule : alice should have bob as sibling\n",
    "with onto:\n",
    "    print(alice.has_sibling)"
   ]
  },
  {
   "cell_type": "code",
   "execution_count": 85,
   "metadata": {},
   "outputs": [],
   "source": [
    "# Defining a new rule : A person having a Woman sibling has a sister\n",
    "with onto:\n",
    "    imp.set_as_rule(\"Person(?x), Person(?y),\\\n",
    "                     has_sibling(?x, ?y), Woman(?y) -> has_sister(?x, ?y)\")"
   ]
  },
  {
   "cell_type": "code",
   "execution_count": 86,
   "metadata": {},
   "outputs": [
    {
     "name": "stderr",
     "output_type": "stream",
     "text": [
      "* Owlready2 * Running Pellet...\n",
      "    /usr/bin/java -Xmx2000M -cp /home/william/Programming/OWL/.venv/lib/python3.8/site-packages/owlready2/pellet/commons-codec-1.6.jar:/home/william/Programming/OWL/.venv/lib/python3.8/site-packages/owlready2/pellet/slf4j-log4j12-1.6.4.jar:/home/william/Programming/OWL/.venv/lib/python3.8/site-packages/owlready2/pellet/jena-iri-0.9.5.jar:/home/william/Programming/OWL/.venv/lib/python3.8/site-packages/owlready2/pellet/jena-arq-2.10.0.jar:/home/william/Programming/OWL/.venv/lib/python3.8/site-packages/owlready2/pellet/xml-apis-1.4.01.jar:/home/william/Programming/OWL/.venv/lib/python3.8/site-packages/owlready2/pellet/antlr-3.2.jar:/home/william/Programming/OWL/.venv/lib/python3.8/site-packages/owlready2/pellet/jcl-over-slf4j-1.6.4.jar:/home/william/Programming/OWL/.venv/lib/python3.8/site-packages/owlready2/pellet/xercesImpl-2.10.0.jar:/home/william/Programming/OWL/.venv/lib/python3.8/site-packages/owlready2/pellet/jena-core-2.10.0.jar:/home/william/Programming/OWL/.venv/lib/python3.8/site-packages/owlready2/pellet/aterm-java-1.6.jar:/home/william/Programming/OWL/.venv/lib/python3.8/site-packages/owlready2/pellet/log4j-1.2.16.jar:/home/william/Programming/OWL/.venv/lib/python3.8/site-packages/owlready2/pellet/httpcore-4.2.2.jar:/home/william/Programming/OWL/.venv/lib/python3.8/site-packages/owlready2/pellet/owlapi-distribution-3.4.3-bin.jar:/home/william/Programming/OWL/.venv/lib/python3.8/site-packages/owlready2/pellet/jgrapht-jdk1.5.jar:/home/william/Programming/OWL/.venv/lib/python3.8/site-packages/owlready2/pellet/antlr-runtime-3.2.jar:/home/william/Programming/OWL/.venv/lib/python3.8/site-packages/owlready2/pellet/httpclient-4.2.3.jar:/home/william/Programming/OWL/.venv/lib/python3.8/site-packages/owlready2/pellet/jena-tdb-0.10.0.jar:/home/william/Programming/OWL/.venv/lib/python3.8/site-packages/owlready2/pellet/slf4j-api-1.6.4.jar:/home/william/Programming/OWL/.venv/lib/python3.8/site-packages/owlready2/pellet/pellet-2.3.1.jar pellet.Pellet realize --loader Jena --input-format N-Triples --infer-prop-values --infer-data-prop-values --ignore-imports /tmp/tmphi0x0vya\n"
     ]
    },
    {
     "name": "stdout",
     "output_type": "stream",
     "text": [
      "* Owlready * Adding relation students.org.bob has_sister students.org.mary\n",
      "* Owlready * Adding relation students.org.bob has_sister students.org.alice\n",
      "* Owlready * Adding relation students.org.alice has_sister students.org.mary\n"
     ]
    },
    {
     "name": "stderr",
     "output_type": "stream",
     "text": [
      "* Owlready2 * Pellet took 3.264251232147217 seconds\n",
      "* Owlready * (NB: only changes on entities loaded in Python are shown, other changes are done but not listed)\n"
     ]
    }
   ],
   "source": [
    "# Synchronizing reasoner\n",
    "sync_reasoner_pellet([onto], infer_property_values=True, infer_data_property_values=True, debug=True, keep_tmp_file=True)"
   ]
  },
  {
   "cell_type": "code",
   "execution_count": 87,
   "metadata": {},
   "outputs": [
    {
     "name": "stdout",
     "output_type": "stream",
     "text": [
      "[students.org.esther, students.org.mary, students.org.alice]\n"
     ]
    }
   ],
   "source": [
    "# Checking latter rule :  bob should have alice, mary and esther as sisters\n",
    "with onto:\n",
    "    print(bob.has_sister)"
   ]
  },
  {
   "cell_type": "code",
   "execution_count": 39,
   "metadata": {},
   "outputs": [],
   "source": [
    "with onto:\n",
    "    Thing.descendants(include_self = True, only_loaded = False)"
   ]
  },
  {
   "cell_type": "code",
   "execution_count": 40,
   "metadata": {},
   "outputs": [],
   "source": [
    "onto.save(TMP_FOLDER + 'students.owl')"
   ]
  },
  {
   "cell_type": "code",
   "execution_count": 41,
   "metadata": {},
   "outputs": [
    {
     "data": {
      "text/plain": [
       "{'http://anonymous/': get_ontology(\"http://anonymous/\"),\n",
       " 'http://students.org/': get_ontology(\"http://students.org/\"),\n",
       " 'http://inferrences/': get_ontology(\"http://inferrences/\")}"
      ]
     },
     "execution_count": 41,
     "metadata": {},
     "output_type": "execute_result"
    }
   ],
   "source": [
    "default_world.ontologies"
   ]
  },
  {
   "cell_type": "code",
   "execution_count": 42,
   "metadata": {},
   "outputs": [],
   "source": [
    "default_world.save(TMP_FOLDER + 'world.owl')"
   ]
  },
  {
   "cell_type": "markdown",
   "metadata": {},
   "source": [
    "Native SPARQL engine (see [SPARQL Owlready2 documentation](https://owlready2.readthedocs.io/en/latest/sparql.html#native-sparql-engine))"
   ]
  },
  {
   "cell_type": "markdown",
   "metadata": {},
   "source": [
    "RDFLib SPARQL engine"
   ]
  },
  {
   "cell_type": "code",
   "execution_count": 88,
   "metadata": {},
   "outputs": [
    {
     "name": "stdout",
     "output_type": "stream",
     "text": [
      "http://students.org/bob\n"
     ]
    }
   ],
   "source": [
    "with onto:\n",
    "    print(bob.iri)"
   ]
  },
  {
   "cell_type": "code",
   "execution_count": 90,
   "metadata": {},
   "outputs": [],
   "source": [
    "graph = default_world.as_rdflib_graph()\n",
    "graph.bind('owl', 'http://www.w3.org/2002/07/owl#')"
   ]
  },
  {
   "cell_type": "code",
   "execution_count": 91,
   "metadata": {},
   "outputs": [
    {
     "name": "stdout",
     "output_type": "stream",
     "text": [
      "[(rdflib.term.URIRef('http://students.org/Person'),), (rdflib.term.URIRef('http://students.org/Teacher'),), (rdflib.term.URIRef('http://students.org/Student'),), (rdflib.term.URIRef('http://students.org/Man'),)]\n"
     ]
    }
   ],
   "source": [
    "r = list(graph.query('SELECT ?classe WHERE { <http://students.org/bob> a ?classe . ?classe a owl:Class . }'))\n",
    "print(r)"
   ]
  },
  {
   "cell_type": "code",
   "execution_count": 92,
   "metadata": {},
   "outputs": [],
   "source": [
    "graph.bind(\"students\", \"http://students.org/\")"
   ]
  },
  {
   "cell_type": "code",
   "execution_count": 93,
   "metadata": {},
   "outputs": [
    {
     "name": "stdout",
     "output_type": "stream",
     "text": [
      "[(rdflib.term.URIRef('http://students.org/Person'),), (rdflib.term.URIRef('http://students.org/Teacher'),), (rdflib.term.URIRef('http://students.org/Student'),), (rdflib.term.URIRef('http://students.org/Man'),)]\n"
     ]
    }
   ],
   "source": [
    "r = list(graph.query('SELECT ?classe WHERE { student:bob a ?classe . ?classe a owl:Class . }'))\n",
    "print(r)"
   ]
  },
  {
   "cell_type": "code",
   "execution_count": 94,
   "metadata": {},
   "outputs": [],
   "source": [
    "onto.destroy()"
   ]
  },
  {
   "cell_type": "code",
   "execution_count": 95,
   "metadata": {},
   "outputs": [
    {
     "data": {
      "text/plain": [
       "[students.org.mary, students.org.alice, students.org.esther]"
      ]
     },
     "execution_count": 95,
     "metadata": {},
     "output_type": "execute_result"
    }
   ],
   "source": [
    "bob.has_sibling"
   ]
  },
  {
   "cell_type": "code",
   "execution_count": 96,
   "metadata": {},
   "outputs": [
    {
     "data": {
      "text/plain": [
       "'http://students.org/bob'"
      ]
     },
     "execution_count": 96,
     "metadata": {},
     "output_type": "execute_result"
    }
   ],
   "source": [
    "bob.iri"
   ]
  },
  {
   "cell_type": "code",
   "execution_count": 98,
   "metadata": {},
   "outputs": [
    {
     "ename": "TypeError",
     "evalue": "'NoneType' object is not subscriptable",
     "output_type": "error",
     "traceback": [
      "\u001b[0;31m---------------------------------------------------------------------------\u001b[0m",
      "\u001b[0;31mTypeError\u001b[0m                                 Traceback (most recent call last)",
      "\u001b[0;32m/tmp/ipykernel_3723/1474833337.py\u001b[0m in \u001b[0;36m<module>\u001b[0;34m\u001b[0m\n\u001b[0;32m----> 1\u001b[0;31m \u001b[0monto\u001b[0m\u001b[0;34m.\u001b[0m\u001b[0msave\u001b[0m\u001b[0;34m(\u001b[0m\u001b[0;34m'students.owl'\u001b[0m\u001b[0;34m)\u001b[0m\u001b[0;34m\u001b[0m\u001b[0;34m\u001b[0m\u001b[0m\n\u001b[0m",
      "\u001b[0;32m~/Programming/OWL/.venv/lib/python3.8/site-packages/owlready2/namespace.py\u001b[0m in \u001b[0;36msave\u001b[0;34m(self, file, format, **kargs)\u001b[0m\n\u001b[1;32m   1004\u001b[0m       \u001b[0;32mif\u001b[0m \u001b[0m_LOG_LEVEL\u001b[0m\u001b[0;34m:\u001b[0m \u001b[0mprint\u001b[0m\u001b[0;34m(\u001b[0m\u001b[0;34m\"* Owlready2 * Saving ontology %s to %s...\"\u001b[0m \u001b[0;34m%\u001b[0m \u001b[0;34m(\u001b[0m\u001b[0mself\u001b[0m\u001b[0;34m.\u001b[0m\u001b[0mname\u001b[0m\u001b[0;34m,\u001b[0m \u001b[0mfile\u001b[0m\u001b[0;34m)\u001b[0m\u001b[0;34m,\u001b[0m \u001b[0mfile\u001b[0m \u001b[0;34m=\u001b[0m \u001b[0msys\u001b[0m\u001b[0;34m.\u001b[0m\u001b[0mstderr\u001b[0m\u001b[0;34m)\u001b[0m\u001b[0;34m\u001b[0m\u001b[0;34m\u001b[0m\u001b[0m\n\u001b[1;32m   1005\u001b[0m       \u001b[0mfile\u001b[0m \u001b[0;34m=\u001b[0m \u001b[0mopen\u001b[0m\u001b[0;34m(\u001b[0m\u001b[0mfile\u001b[0m\u001b[0;34m,\u001b[0m \u001b[0;34m\"wb\"\u001b[0m\u001b[0;34m)\u001b[0m\u001b[0;34m\u001b[0m\u001b[0;34m\u001b[0m\u001b[0m\n\u001b[0;32m-> 1006\u001b[0;31m       \u001b[0mself\u001b[0m\u001b[0;34m.\u001b[0m\u001b[0mgraph\u001b[0m\u001b[0;34m.\u001b[0m\u001b[0msave\u001b[0m\u001b[0;34m(\u001b[0m\u001b[0mfile\u001b[0m\u001b[0;34m,\u001b[0m \u001b[0mformat\u001b[0m\u001b[0;34m,\u001b[0m \u001b[0;34m**\u001b[0m\u001b[0mkargs\u001b[0m\u001b[0;34m)\u001b[0m\u001b[0;34m\u001b[0m\u001b[0;34m\u001b[0m\u001b[0m\n\u001b[0m\u001b[1;32m   1007\u001b[0m       \u001b[0mfile\u001b[0m\u001b[0;34m.\u001b[0m\u001b[0mclose\u001b[0m\u001b[0;34m(\u001b[0m\u001b[0;34m)\u001b[0m\u001b[0;34m\u001b[0m\u001b[0;34m\u001b[0m\u001b[0m\n\u001b[1;32m   1008\u001b[0m     \u001b[0;32melse\u001b[0m\u001b[0;34m:\u001b[0m\u001b[0;34m\u001b[0m\u001b[0;34m\u001b[0m\u001b[0m\n",
      "\u001b[0;32m~/Programming/OWL/.venv/lib/python3.8/site-packages/owlready2/driver.py\u001b[0m in \u001b[0;36msave\u001b[0;34m(self, f, format, commit, **kargs)\u001b[0m\n\u001b[1;32m    223\u001b[0m   \u001b[0;32mdef\u001b[0m \u001b[0msave\u001b[0m\u001b[0;34m(\u001b[0m\u001b[0mself\u001b[0m\u001b[0;34m,\u001b[0m \u001b[0mf\u001b[0m\u001b[0;34m,\u001b[0m \u001b[0mformat\u001b[0m \u001b[0;34m=\u001b[0m \u001b[0;34m\"rdfxml\"\u001b[0m\u001b[0;34m,\u001b[0m \u001b[0mcommit\u001b[0m \u001b[0;34m=\u001b[0m \u001b[0;32mFalse\u001b[0m\u001b[0;34m,\u001b[0m \u001b[0;34m**\u001b[0m\u001b[0mkargs\u001b[0m\u001b[0;34m)\u001b[0m\u001b[0;34m:\u001b[0m\u001b[0;34m\u001b[0m\u001b[0;34m\u001b[0m\u001b[0m\n\u001b[1;32m    224\u001b[0m     \u001b[0;32mif\u001b[0m \u001b[0mcommit\u001b[0m\u001b[0;34m:\u001b[0m \u001b[0mself\u001b[0m\u001b[0;34m.\u001b[0m\u001b[0mparent\u001b[0m\u001b[0;34m.\u001b[0m\u001b[0mcommit\u001b[0m\u001b[0;34m(\u001b[0m\u001b[0;34m)\u001b[0m\u001b[0;34m\u001b[0m\u001b[0;34m\u001b[0m\u001b[0m\n\u001b[0;32m--> 225\u001b[0;31m     \u001b[0m_save\u001b[0m\u001b[0;34m(\u001b[0m\u001b[0mf\u001b[0m\u001b[0;34m,\u001b[0m \u001b[0mformat\u001b[0m\u001b[0;34m,\u001b[0m \u001b[0mself\u001b[0m\u001b[0;34m,\u001b[0m \u001b[0;34m**\u001b[0m\u001b[0mkargs\u001b[0m\u001b[0;34m)\u001b[0m\u001b[0;34m\u001b[0m\u001b[0;34m\u001b[0m\u001b[0m\n\u001b[0m\u001b[1;32m    226\u001b[0m \u001b[0;34m\u001b[0m\u001b[0m\n\u001b[1;32m    227\u001b[0m \u001b[0;34m\u001b[0m\u001b[0m\n",
      "\u001b[0;32m~/Programming/OWL/.venv/lib/python3.8/site-packages/owlready2/driver.py\u001b[0m in \u001b[0;36m_save\u001b[0;34m(f, format, graph, filter)\u001b[0m\n\u001b[1;32m    296\u001b[0m       \u001b[0;32mreturn\u001b[0m \u001b[0mr\u001b[0m\u001b[0;34m\u001b[0m\u001b[0;34m\u001b[0m\u001b[0m\n\u001b[1;32m    297\u001b[0m \u001b[0;34m\u001b[0m\u001b[0m\n\u001b[0;32m--> 298\u001b[0;31m     \u001b[0mbase_iri\u001b[0m \u001b[0;34m=\u001b[0m \u001b[0mgraph\u001b[0m\u001b[0;34m.\u001b[0m\u001b[0m_iter_ontology_iri\u001b[0m\u001b[0;34m(\u001b[0m\u001b[0mgraph\u001b[0m\u001b[0;34m.\u001b[0m\u001b[0mc\u001b[0m\u001b[0;34m)\u001b[0m\u001b[0;34m\u001b[0m\u001b[0;34m\u001b[0m\u001b[0m\n\u001b[0m\u001b[1;32m    299\u001b[0m \u001b[0;34m\u001b[0m\u001b[0m\n\u001b[1;32m    300\u001b[0m     xmlns = {\n",
      "\u001b[0;32m~/Programming/OWL/.venv/lib/python3.8/site-packages/owlready2/triplelite.py\u001b[0m in \u001b[0;36m_iter_ontology_iri\u001b[0;34m(self, c)\u001b[0m\n\u001b[1;32m   1401\u001b[0m   \u001b[0;32mdef\u001b[0m \u001b[0m_iter_ontology_iri\u001b[0m\u001b[0;34m(\u001b[0m\u001b[0mself\u001b[0m\u001b[0;34m,\u001b[0m \u001b[0mc\u001b[0m \u001b[0;34m=\u001b[0m \u001b[0;32mNone\u001b[0m\u001b[0;34m)\u001b[0m\u001b[0;34m:\u001b[0m\u001b[0;34m\u001b[0m\u001b[0;34m\u001b[0m\u001b[0m\n\u001b[1;32m   1402\u001b[0m     \u001b[0;32mif\u001b[0m \u001b[0mc\u001b[0m\u001b[0;34m:\u001b[0m\u001b[0;34m\u001b[0m\u001b[0;34m\u001b[0m\u001b[0m\n\u001b[0;32m-> 1403\u001b[0;31m       \u001b[0;32mreturn\u001b[0m \u001b[0mself\u001b[0m\u001b[0;34m.\u001b[0m\u001b[0mexecute\u001b[0m\u001b[0;34m(\u001b[0m\u001b[0;34m\"SELECT iri FROM ontologies WHERE c=?\"\u001b[0m\u001b[0;34m,\u001b[0m \u001b[0;34m(\u001b[0m\u001b[0mc\u001b[0m\u001b[0;34m,\u001b[0m\u001b[0;34m)\u001b[0m\u001b[0;34m)\u001b[0m\u001b[0;34m.\u001b[0m\u001b[0mfetchone\u001b[0m\u001b[0;34m(\u001b[0m\u001b[0;34m)\u001b[0m\u001b[0;34m[\u001b[0m\u001b[0;36m0\u001b[0m\u001b[0;34m]\u001b[0m\u001b[0;34m\u001b[0m\u001b[0;34m\u001b[0m\u001b[0m\n\u001b[0m\u001b[1;32m   1404\u001b[0m     \u001b[0;32melse\u001b[0m\u001b[0;34m:\u001b[0m\u001b[0;34m\u001b[0m\u001b[0;34m\u001b[0m\u001b[0m\n\u001b[1;32m   1405\u001b[0m       \u001b[0;32mreturn\u001b[0m \u001b[0mself\u001b[0m\u001b[0;34m.\u001b[0m\u001b[0mexecute\u001b[0m\u001b[0;34m(\u001b[0m\u001b[0;34m\"SELECT c, iri FROM ontologies\"\u001b[0m\u001b[0;34m)\u001b[0m\u001b[0;34m.\u001b[0m\u001b[0mfetchall\u001b[0m\u001b[0;34m(\u001b[0m\u001b[0;34m)\u001b[0m\u001b[0;34m\u001b[0m\u001b[0;34m\u001b[0m\u001b[0m\n",
      "\u001b[0;31mTypeError\u001b[0m: 'NoneType' object is not subscriptable"
     ]
    }
   ],
   "source": [
    "onto.save(TMP_FOLDER + 'students.owl')"
   ]
  }
 ],
 "metadata": {
  "kernelspec": {
   "display_name": "Python 3 (ipykernel)",
   "language": "python",
   "name": "python3"
  },
  "language_info": {
   "codemirror_mode": {
    "name": "ipython",
    "version": 3
   },
   "file_extension": ".py",
   "mimetype": "text/x-python",
   "name": "python",
   "nbconvert_exporter": "python",
   "pygments_lexer": "ipython3",
   "version": "3.8.10"
  }
 },
 "nbformat": 4,
 "nbformat_minor": 4
}
